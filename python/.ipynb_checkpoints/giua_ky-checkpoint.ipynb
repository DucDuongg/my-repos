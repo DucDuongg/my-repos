{
 "cells": [
  {
   "cell_type": "code",
   "execution_count": 1,
   "metadata": {},
   "outputs": [
    {
     "name": "stdout",
     "output_type": "stream",
     "text": [
      "[[0. 0. 0.]\n",
      " [0. 0. 0.]\n",
      " [0. 0. 0.]]\n",
      "[[1 0 4]\n",
      " [2 5 8]\n",
      " [7 3 8]]\n"
     ]
    },
    {
     "data": {
      "text/plain": [
       "2"
      ]
     },
     "execution_count": 1,
     "metadata": {},
     "output_type": "execute_result"
    }
   ],
   "source": [
    "import numpy as np\n",
    "\n",
    "from sys import getsizeof\n",
    "\n",
    "#1 : create matrix 3x3\n",
    "a = np.zeros((3,3))\n",
    "\n",
    "print(a)\n",
    "\n",
    "a = np.random.randint(0,10, size=(3,3))\n",
    "print(a)\n",
    "\n",
    "a.ndim"
   ]
  },
  {
   "cell_type": "code",
   "execution_count": 8,
   "metadata": {},
   "outputs": [
    {
     "data": {
      "text/plain": [
       "True"
      ]
     },
     "execution_count": 8,
     "metadata": {},
     "output_type": "execute_result"
    }
   ],
   "source": [
    "#2 : check if any element is not 0\n",
    "\n",
    "(a==0).any()"
   ]
  },
  {
   "cell_type": "code",
   "execution_count": 17,
   "metadata": {},
   "outputs": [
    {
     "name": "stdout",
     "output_type": "stream",
     "text": [
      "[ 0.  0.  0.  0.  0.  0.  0.  0.  0.  0.]\n",
      "[ 1.  1.  1.  1.  1.  1.  1.  1.  1.  1.]\n",
      "[5 5 5 5 5 5 5 5 5 5]\n"
     ]
    }
   ],
   "source": [
    "# 3 : \n",
    "\n",
    "# ten numbers 0\n",
    "a  = np.zeros(10)\n",
    "print(a)\n",
    "\n",
    "# ten numbers 1\n",
    "b = np.ones(10)\n",
    "print(b)\n",
    "\n",
    "# ten numbers 5\n",
    "c = np.full(10,5)\n",
    "print(c)\n"
   ]
  },
  {
   "cell_type": "code",
   "execution_count": 22,
   "metadata": {},
   "outputs": [
    {
     "name": "stdout",
     "output_type": "stream",
     "text": [
      "[30 32 34 36 38 40 42 44 46 48 50 52 54 56 58 60 62 64 66 68 70]\n"
     ]
    }
   ],
   "source": [
    "#4 : so nguyen chan tu 30 den 70\n",
    "\n",
    "a = np.arange(30,72,2)\n",
    "print(a)"
   ]
  },
  {
   "cell_type": "code",
   "execution_count": 37,
   "metadata": {},
   "outputs": [
    {
     "ename": "TypeError",
     "evalue": "save() missing 1 required positional argument: 'arr'",
     "output_type": "error",
     "traceback": [
      "\u001b[0;31m---------------------------------------------------------------------------\u001b[0m",
      "\u001b[0;31mTypeError\u001b[0m                                 Traceback (most recent call last)",
      "\u001b[0;32m<ipython-input-37-07c3c9d60406>\u001b[0m in \u001b[0;36m<module>\u001b[0;34m()\u001b[0m\n\u001b[1;32m      5\u001b[0m \u001b[0;34m\u001b[0m\u001b[0m\n\u001b[1;32m      6\u001b[0m \u001b[0ma\u001b[0m \u001b[0;34m=\u001b[0m \u001b[0mnp\u001b[0m\u001b[0;34m.\u001b[0m\u001b[0marange\u001b[0m\u001b[0;34m(\u001b[0m\u001b[0;36m0\u001b[0m\u001b[0;34m,\u001b[0m\u001b[0;36m10\u001b[0m\u001b[0;34m)\u001b[0m\u001b[0;34m\u001b[0m\u001b[0m\n\u001b[0;32m----> 7\u001b[0;31m \u001b[0mnp\u001b[0m\u001b[0;34m.\u001b[0m\u001b[0msave\u001b[0m\u001b[0;34m(\u001b[0m\u001b[0ma\u001b[0m\u001b[0;34m)\u001b[0m\u001b[0;34m\u001b[0m\u001b[0m\n\u001b[0m\u001b[1;32m      8\u001b[0m \u001b[0;34m\u001b[0m\u001b[0m\n\u001b[1;32m      9\u001b[0m \u001b[0;31m#outfile.seek(0)\u001b[0m\u001b[0;34m\u001b[0m\u001b[0;34m\u001b[0m\u001b[0m\n",
      "\u001b[0;31mTypeError\u001b[0m: save() missing 1 required positional argument: 'arr'"
     ]
    }
   ],
   "source": [
    "#5: save numpy array to binary file\n",
    "\n",
    "from tempfile import TemporaryFile\n",
    "outfile = TemporaryFile()\n",
    "\n",
    "a = np.arange(0,10)\n",
    "np.save(outfile,a)\n",
    "\n",
    "outfile.seek(0)\n",
    "np.load(outfile)\n"
   ]
  },
  {
   "cell_type": "code",
   "execution_count": 39,
   "metadata": {},
   "outputs": [
    {
     "data": {
      "text/plain": [
       "array([[1, 0, 0, 0, 0],\n",
       "       [0, 2, 0, 0, 0],\n",
       "       [0, 0, 3, 0, 0],\n",
       "       [0, 0, 0, 4, 0],\n",
       "       [0, 0, 0, 0, 5]])"
      ]
     },
     "execution_count": 39,
     "metadata": {},
     "output_type": "execute_result"
    }
   ],
   "source": [
    "#6 : ma tran zero 5x5, phan tu tren duong cheo bang 1 -> 5\n",
    "\n",
    "diag = np.arange(1,6)\n",
    "\n",
    "a = np.diagflat(diag)\n",
    "a"
   ]
  },
  {
   "cell_type": "code",
   "execution_count": 69,
   "metadata": {},
   "outputs": [
    {
     "data": {
      "text/plain": [
       "array([[ 1.,  2.,  3.],\n",
       "       [ 4.,  5.,  6.],\n",
       "       [ 7.,  8.,  9.]])"
      ]
     },
     "execution_count": 69,
     "metadata": {},
     "output_type": "execute_result"
    }
   ],
   "source": [
    "#7 : save array to file\n",
    "a = np.arange(1,10)\n",
    "a = a.reshape(3,3)\n",
    "\n",
    "np.savetxt(\"test.txt\", a, \"%d\", delimiter=\",\")\n",
    "\n",
    "b = np.loadtxt(\"test.txt\", delimiter=\",\")\n",
    "b"
   ]
  },
  {
   "cell_type": "code",
   "execution_count": 65,
   "metadata": {
    "collapsed": true
   },
   "outputs": [],
   "source": [
    "x = np.array([[1, 2, 3],\n",
    "[4, 5, 6],\n",
    "[7, 8, 9]], np.int32)\n",
    "np.savetxt(\"test2.txt\", x, fmt=\"%2.3f\", delimiter=\",\")\n"
   ]
  },
  {
   "cell_type": "code",
   "execution_count": null,
   "metadata": {
    "collapsed": true
   },
   "outputs": [],
   "source": [
    "# 8 : "
   ]
  },
  {
   "cell_type": "code",
   "execution_count": 4,
   "metadata": {},
   "outputs": [
    {
     "data": {
      "text/plain": [
       "array([[0., 0., 0., 0., 0.],\n",
       "       [0., 1., 1., 1., 0.],\n",
       "       [0., 1., 1., 1., 0.],\n",
       "       [0., 1., 1., 1., 0.],\n",
       "       [0., 0., 0., 0., 0.]])"
      ]
     },
     "execution_count": 4,
     "metadata": {},
     "output_type": "execute_result"
    }
   ],
   "source": [
    "# 13\n",
    "\n",
    "a = np.ones((3,3))\n",
    "a\n",
    "\n",
    "a = np.pad(a, pad_width=1, mode=\"constant\", constant_values = 0)\n",
    "a"
   ]
  },
  {
   "cell_type": "code",
   "execution_count": 8,
   "metadata": {
    "scrolled": true
   },
   "outputs": [
    {
     "name": "stdout",
     "output_type": "stream",
     "text": [
      "[1 2 3 4 5]\n",
      "<class 'list'>\n",
      "[8 1 3]\n",
      "<class 'tuple'> <class 'numpy.ndarray'>\n"
     ]
    }
   ],
   "source": [
    "# 14\n",
    "\n",
    "# list to array\n",
    "my_list = [1,2,3,4,5]\n",
    "\n",
    "list_to_array = np.asarray(my_list)\n",
    "print(list_to_array)\n",
    "print( type(my_list) )\n",
    "\n",
    "# tuple to array\n",
    "my_tuple = (8,1,3)\n",
    "tuple_to_arry = np.asarray(my_tuple)\n",
    "\n",
    "print(tuple_to_arry)\n",
    "\n",
    "print( type(my_tuple), type(tuple_to_arry) )"
   ]
  },
  {
   "cell_type": "code",
   "execution_count": 10,
   "metadata": {},
   "outputs": [
    {
     "name": "stdout",
     "output_type": "stream",
     "text": [
      "[ 0.   12.   45.21 34.   99.91]\n",
      "[-17.77777778 -11.11111111   7.33888889   1.11111111  37.72777778]\n"
     ]
    }
   ],
   "source": [
    "# 15\n",
    "\n",
    "degree_f = np.array([0, 12, 45.21, 34, 99.91])\n",
    "print(degree_f)\n",
    "\n",
    "degree_c = (5 * (degree_f - 32)) / 9\n",
    "print(degree_c)\n"
   ]
  },
  {
   "cell_type": "code",
   "execution_count": 14,
   "metadata": {},
   "outputs": [
    {
     "name": "stdout",
     "output_type": "stream",
     "text": [
      "3\n",
      "8\n",
      "24\n"
     ]
    }
   ],
   "source": [
    "# 16\n",
    "\n",
    "a = np.array([1,2,3])\n",
    "\n",
    "print(a.size)\n",
    "print(a.itemsize)\n",
    "print(a.nbytes)\n"
   ]
  },
  {
   "cell_type": "code",
   "execution_count": 15,
   "metadata": {},
   "outputs": [
    {
     "data": {
      "text/plain": [
       "array([1, 4, 5])"
      ]
     },
     "execution_count": 15,
     "metadata": {},
     "output_type": "execute_result"
    }
   ],
   "source": [
    "# 17\n",
    "\n",
    "a = np.array([1,2,3,4,5])\n",
    "b = np.array([4,5,6,1])\n",
    "\n",
    "c = np.intersect1d(a,b)\n",
    "c"
   ]
  },
  {
   "cell_type": "code",
   "execution_count": 25,
   "metadata": {},
   "outputs": [
    {
     "name": "stdout",
     "output_type": "stream",
     "text": [
      "-1\n",
      "(array([0]),)\n",
      "(array([2]),) (array([5]),)\n",
      "2\n",
      "5\n"
     ]
    }
   ],
   "source": [
    "# 18\n",
    "\n",
    "a = np.array([10,2,-1, 3, 5,1999])\n",
    "\n",
    "index_min = np.where(a == np.min(a))\n",
    "index_max = np.where(a == np.max(a))\n",
    "\n",
    "print(np.min(a))\n",
    "print(np.where(np.min(a)))\n",
    "print(index_min, index_max)\n",
    "\n",
    "# cach 2\n",
    "\n",
    "print(np.argmin(a))\n",
    "print(np.argmax(a))\n",
    "\n"
   ]
  },
  {
   "cell_type": "code",
   "execution_count": 33,
   "metadata": {},
   "outputs": [
    {
     "name": "stdout",
     "output_type": "stream",
     "text": [
      "(array([1, 3, 5, 6, 8]),)\n",
      "[ 15  33 210 331  98]\n",
      "[ 15  33 210 331  98]\n",
      "(array([1, 3, 5, 6, 8]),)\n"
     ]
    }
   ],
   "source": [
    "#19\n",
    "\n",
    "a = np.array([1, 15, 2, 33, 6, 210, 331, -1, 98])\n",
    "\n",
    "index_gt_10 = np.where(a > 10)\n",
    "\n",
    "b = a[index_gt_10]\n",
    "\n",
    "print(index_gt_10)\n",
    "print(b)\n",
    "\n",
    "\n",
    "# cach 2\n",
    "\n",
    "print(a[a>10])\n",
    "print(np.nonzero(a>10))"
   ]
  },
  {
   "cell_type": "code",
   "execution_count": 35,
   "metadata": {},
   "outputs": [
    {
     "data": {
      "text/plain": [
       "array([[ 2,  3,  4],\n",
       "       [ 5,  6,  7],\n",
       "       [ 0,  9, 10],\n",
       "       [ 0,  0, 13]])"
      ]
     },
     "execution_count": 35,
     "metadata": {},
     "output_type": "execute_result"
    }
   ],
   "source": [
    "# 20 \n",
    "\n",
    "a = np.array( [2, 3, 4, 5 ,6, 7, 0, 9, 10, 0, 0, 13] ).reshape(4,3)\n",
    "a"
   ]
  },
  {
   "cell_type": "code",
   "execution_count": 37,
   "metadata": {},
   "outputs": [
    {
     "data": {
      "text/plain": [
       "array([1, 0, 0, 0, 1, 0, 0, 0, 1])"
      ]
     },
     "execution_count": 37,
     "metadata": {},
     "output_type": "execute_result"
    }
   ],
   "source": [
    "#21\n",
    "\n",
    "a = np.array([ [1, 0, 0], [0, 1, 0], [0, 0, 1] ])\n",
    "a.flatten()"
   ]
  },
  {
   "cell_type": "code",
   "execution_count": 43,
   "metadata": {},
   "outputs": [
    {
     "data": {
      "text/plain": [
       "array([[0, 1, 2, 3, 4],\n",
       "       [0, 1, 2, 3, 4],\n",
       "       [0, 1, 2, 3, 4],\n",
       "       [0, 1, 2, 3, 4],\n",
       "       [0, 1, 2, 3, 4]])"
      ]
     },
     "execution_count": 43,
     "metadata": {},
     "output_type": "execute_result"
    }
   ],
   "source": [
    "# 22\n",
    "\n",
    "a = np.array(np.arange(0,5))\n",
    "\n",
    "a = np.tile(a, 5)\n",
    "\n",
    "a.reshape(5,5)"
   ]
  },
  {
   "cell_type": "code",
   "execution_count": 45,
   "metadata": {},
   "outputs": [
    {
     "data": {
      "text/plain": [
       "array([[ 0,  3,  6,  9],\n",
       "       [12, 15, 18, 21],\n",
       "       [24, 27, 30, 33]])"
      ]
     },
     "execution_count": 45,
     "metadata": {},
     "output_type": "execute_result"
    }
   ],
   "source": [
    "#23\n",
    "\n",
    "a = np.arange(0,12).reshape(3,4)\n",
    "\n",
    "multi_by_3 = a*3\n",
    "multi_by_3\n"
   ]
  },
  {
   "cell_type": "code",
   "execution_count": 52,
   "metadata": {},
   "outputs": [
    {
     "name": "stdout",
     "output_type": "stream",
     "text": [
      "float64\n",
      "[1 3 2 2]\n"
     ]
    }
   ],
   "source": [
    "#24\n",
    "\n",
    "float_array = np.array([1.2, 3.5, 2.0, 2.3])\n",
    "\n",
    "print(float_array.dtype)\n",
    "\n",
    "int_array = float_array.astype('int')\n",
    "print(int_array)\n"
   ]
  },
  {
   "cell_type": "code",
   "execution_count": 59,
   "metadata": {},
   "outputs": [
    {
     "name": "stdout",
     "output_type": "stream",
     "text": [
      "[[0 1 2 3]\n",
      " [4 5 6 7]]\n",
      "[[100]\n",
      " [200]]\n",
      "[[  0   1   2   3 100]\n",
      " [  4   5   6   7 200]]\n"
     ]
    }
   ],
   "source": [
    "#25\n",
    "\n",
    "a = np.arange(0, 8).reshape(2,4)\n",
    "b = np.array([100, 200]).reshape(2,1)\n",
    "\n",
    "c = np.append(a,b, axis=1)\n",
    "\n",
    "print(a)\n",
    "print(b)\n",
    "print(c)"
   ]
  },
  {
   "cell_type": "code",
   "execution_count": 62,
   "metadata": {},
   "outputs": [
    {
     "data": {
      "text/plain": [
       "array([[ 0, 20, 20, 20],\n",
       "       [10, 20, 20, 20],\n",
       "       [20, 20, 20,  0]])"
      ]
     },
     "execution_count": 62,
     "metadata": {},
     "output_type": "execute_result"
    }
   ],
   "source": [
    "#26\n",
    "\n",
    "x = np.array([\n",
    "    [20, 20, 20, 0],\n",
    "    [0, 20, 20, 20],\n",
    "    [0, 20, 20, 20],\n",
    "    [20, 20, 20, 0],\n",
    "    [10, 20, 20, 20]\n",
    "])\n",
    "\n",
    "y = np.ascontiguousarray(x).view(np.dtype((np.void, x.dtype.itemsize * x.shape[1])))\n",
    "_, idx = np.unique(y, return_index=True)\n",
    "\n",
    "unique_result = x[idx]\n",
    "\n",
    "unique_result"
   ]
  },
  {
   "cell_type": "code",
   "execution_count": 65,
   "metadata": {},
   "outputs": [
    {
     "data": {
      "text/plain": [
       "array([0, 0, 0, 0, 0, 0, 0, 0, 0, 1, 2, 3, 4, 5, 6, 7, 8])"
      ]
     },
     "execution_count": 65,
     "metadata": {},
     "output_type": "execute_result"
    }
   ],
   "source": [
    "# 27\n",
    "\n",
    "a = np.arange(-8, 9)\n",
    "\n",
    "a[a < 0] = 0\n",
    "\n",
    "a"
   ]
  },
  {
   "cell_type": "code",
   "execution_count": 67,
   "metadata": {},
   "outputs": [
    {
     "data": {
      "text/plain": [
       "40320"
      ]
     },
     "execution_count": 67,
     "metadata": {},
     "output_type": "execute_result"
    }
   ],
   "source": [
    "#28\n",
    "\n",
    "a = np.arange(1, 9)\n",
    "np.sum(a)\n",
    "np.prod(a)\n"
   ]
  },
  {
   "cell_type": "code",
   "execution_count": 75,
   "metadata": {},
   "outputs": [
    {
     "name": "stdout",
     "output_type": "stream",
     "text": [
      "[10 20 30 40 50]\n",
      "[3 4 2 2 1]\n",
      "[[10 20 30 40 50]\n",
      " [ 3  4  2  2  1]]\n"
     ]
    }
   ],
   "source": [
    "# 29\n",
    "\n",
    "a = np.array([10,10,20,10,20,20,20,30,30,50,40,40])\n",
    "a\n",
    "\n",
    "unique, count = np.unique(a, return_counts=True)\n",
    "\n",
    "print(unique)\n",
    "print(count)\n",
    "\n",
    "print(np.asarray((unique, count)))"
   ]
  },
  {
   "cell_type": "code",
   "execution_count": 76,
   "metadata": {},
   "outputs": [
    {
     "data": {
      "text/plain": [
       "array([-0.48334723, -0.08997037,  0.36618186,  0.53858854,  0.53017243])"
      ]
     },
     "execution_count": 76,
     "metadata": {},
     "output_type": "execute_result"
    }
   ],
   "source": [
    "#30\n",
    "\n",
    "a = np.random.normal(size=5)\n",
    "\n",
    "a"
   ]
  },
  {
   "cell_type": "code",
   "execution_count": 95,
   "metadata": {},
   "outputs": [
    {
     "data": {
      "text/plain": [
       "array([20, 20, 16, 12, 20, 10])"
      ]
     },
     "execution_count": 95,
     "metadata": {},
     "output_type": "execute_result"
    }
   ],
   "source": [
    "#31\n",
    "\n",
    "a = np.random.randint(10,31, 6)\n",
    "a"
   ]
  },
  {
   "cell_type": "code",
   "execution_count": 112,
   "metadata": {},
   "outputs": [
    {
     "name": "stdout",
     "output_type": "stream",
     "text": [
      "[[0.53155137 0.53182759 0.63440096]\n",
      " [0.84943179 0.72445532 0.61102351]\n",
      " [0.72244338 0.32295891 0.36178866]]\n",
      "0.8494317940777896 0.3229589138531782\n"
     ]
    },
    {
     "data": {
      "text/plain": [
       "array([[ 0.31746269,  0.1804217 ,  1.26094437],\n",
       "       [ 0.44754579, -0.61343884,  0.33405882],\n",
       "       [ 1.28599423, -0.26953403, -0.28924745]])"
      ]
     },
     "execution_count": 112,
     "metadata": {},
     "output_type": "execute_result"
    }
   ],
   "source": [
    "#32\n",
    "\n",
    "#a = np.arange(1,10).reshape(3,3)\n",
    "a = np.random.random((3, 3))\n",
    "print(a)\n",
    "\n",
    "xmax = a.max();\n",
    "xmin = a.min();\n",
    "print(xmax, xmin)\n",
    "\n",
    "x = (x - xmin)/(xmax - xmin)\n",
    "\n",
    "x"
   ]
  },
  {
   "cell_type": "code",
   "execution_count": 119,
   "metadata": {},
   "outputs": [
    {
     "data": {
      "text/plain": [
       "array([0.04359146, 0.15112745, 0.30476807, 0.35591487, 0.39818568,\n",
       "       0.59317692, 0.6917018 , 0.70495883, 0.76254781, 0.99535848])"
      ]
     },
     "execution_count": 119,
     "metadata": {},
     "output_type": "execute_result"
    }
   ],
   "source": [
    "#33\n",
    "\n",
    "a = np.random.random(10)\n",
    "a = np.sort(a)\n",
    "a"
   ]
  },
  {
   "cell_type": "code",
   "execution_count": 123,
   "metadata": {},
   "outputs": [
    {
     "name": "stdout",
     "output_type": "stream",
     "text": [
      "[0 7 1 2 2 7 7 3 6 1 8 4 1 6 5 9 0 3 1 3 7 7 7 5 3 6 3 5 1 5 9 1 3 9 1 5 6\n",
      " 1 5 0]\n"
     ]
    },
    {
     "data": {
      "text/plain": [
       "1"
      ]
     },
     "execution_count": 123,
     "metadata": {},
     "output_type": "execute_result"
    }
   ],
   "source": [
    "#34\n",
    "\n",
    "x = np.random.randint(0, 10, 40)\n",
    "print(x)\n",
    "np.bincount(x).argmax()"
   ]
  },
  {
   "cell_type": "code",
   "execution_count": 5,
   "metadata": {
    "scrolled": true
   },
   "outputs": [
    {
     "name": "stdout",
     "output_type": "stream",
     "text": [
      "Original array:\n",
      "[93 66 75 22 37 75 45 28 64 71]\n",
      "[75 75 93]\n"
     ]
    }
   ],
   "source": [
    "# 35\n",
    "\n",
    "x = np.random.randint(0,100, 10)\n",
    "\n",
    "print(\"Original array:\")\n",
    "print(x)\n",
    "np.random.shuffle(x)\n",
    "n = 3\n",
    "print (x[np.argsort(x)[-n:]])"
   ]
  },
  {
   "cell_type": "code",
   "execution_count": null,
   "metadata": {},
   "outputs": [],
   "source": [
    "#36\n",
    "\n"
   ]
  },
  {
   "cell_type": "code",
   "execution_count": 8,
   "metadata": {},
   "outputs": [
    {
     "name": "stdout",
     "output_type": "stream",
     "text": [
      "[[1 1]\n",
      " [0 1]]\n",
      "[[4 1]\n",
      " [2 2]]\n",
      "[[6 3]\n",
      " [2 2]]\n"
     ]
    }
   ],
   "source": [
    "#40\n",
    "\n",
    "a = np.array([\n",
    "    [1,1],\n",
    "    [0,1]\n",
    "])\n",
    "\n",
    "b = np.array([\n",
    "    [4,1],\n",
    "    [2,2]\n",
    "])\n",
    "\n",
    "c = np.matmul(a,b)\n",
    "\n",
    "print(a)\n",
    "print(b)\n",
    "print(c)"
   ]
  },
  {
   "cell_type": "code",
   "execution_count": 10,
   "metadata": {},
   "outputs": [
    {
     "data": {
      "text/plain": [
       "6.0"
      ]
     },
     "execution_count": 10,
     "metadata": {},
     "output_type": "execute_result"
    }
   ],
   "source": [
    "#41\n",
    "\n",
    "b = np.array([\n",
    "    [4,1],\n",
    "    [2,2]\n",
    "])\n",
    "\n",
    "d = np.linalg.det(b)\n",
    "d"
   ]
  },
  {
   "cell_type": "code",
   "execution_count": 13,
   "metadata": {},
   "outputs": [
    {
     "data": {
      "text/plain": [
       "15"
      ]
     },
     "execution_count": 13,
     "metadata": {},
     "output_type": "execute_result"
    }
   ],
   "source": [
    "#42\n",
    "b = np.array([\n",
    "    [4,1,2],\n",
    "    [2,2,2],\n",
    "    [2,2,9]\n",
    "])\n",
    "\n",
    "sum_diag = np.trace(b)\n",
    "sum_diag"
   ]
  },
  {
   "cell_type": "code",
   "execution_count": null,
   "metadata": {},
   "outputs": [],
   "source": []
  }
 ],
 "metadata": {
  "kernelspec": {
   "display_name": "Python 3",
   "language": "python",
   "name": "python3"
  },
  "language_info": {
   "codemirror_mode": {
    "name": "ipython",
    "version": 3
   },
   "file_extension": ".py",
   "mimetype": "text/x-python",
   "name": "python",
   "nbconvert_exporter": "python",
   "pygments_lexer": "ipython3",
   "version": "3.6.4"
  }
 },
 "nbformat": 4,
 "nbformat_minor": 2
}
