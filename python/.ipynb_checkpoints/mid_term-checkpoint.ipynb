{
 "cells": [
  {
   "cell_type": "code",
   "execution_count": 1,
   "metadata": {},
   "outputs": [],
   "source": [
    "import numpy as np\n"
   ]
  },
  {
   "cell_type": "code",
   "execution_count": 77,
   "metadata": {},
   "outputs": [
    {
     "name": "stdout",
     "output_type": "stream",
     "text": [
      "[30 32 34 36 38 40 42 44 46 48 50 52 54 56 58 60 62 64 66 68 70]\n"
     ]
    }
   ],
   "source": [
    "# cau1: tao mang so nguyen chan 30 -> 70\n",
    "\n",
    "#def cau1:\n",
    "a = np.arange(30,71,2)\n",
    "print(a)\n",
    "#    return a\n"
   ]
  },
  {
   "cell_type": "code",
   "execution_count": 69,
   "metadata": {},
   "outputs": [
    {
     "name": "stdout",
     "output_type": "stream",
     "text": [
      "[[1. 1. 1.]\n",
      " [1. 1. 1.]\n",
      " [1. 1. 1.]]\n",
      "[[0. 0. 0. 0. 0.]\n",
      " [0. 1. 1. 1. 0.]\n",
      " [0. 1. 1. 1. 0.]\n",
      " [0. 1. 1. 1. 0.]\n",
      " [0. 0. 0. 0. 0.]]\n"
     ]
    }
   ],
   "source": [
    "# cau2: them duong vien (chua 0) xung quanh mang da cho\n",
    "\n",
    "a = np.ones((3,3))\n",
    "print(a)\n",
    "\n",
    "a = np.pad(a, pad_width=1, mode=\"constant\", constant_values = 0)\n",
    "print(a)\n"
   ]
  },
  {
   "cell_type": "code",
   "execution_count": 71,
   "metadata": {},
   "outputs": [
    {
     "name": "stdout",
     "output_type": "stream",
     "text": [
      "[[  0   5   6   3   7   3]\n",
      " [ -3   2  -3   9   9  -3]\n",
      " [ -5  -5   7  -7  -9 -10]\n",
      " [  4  -6   5   3   9 -10]\n",
      " [ -8   9   5   1   3  -4]]\n",
      "[[0 5 6 3 7 3]\n",
      " [0 2 0 9 9 0]\n",
      " [0 0 7 0 0 0]\n",
      " [4 0 5 3 9 0]\n",
      " [0 9 5 1 3 0]]\n"
     ]
    }
   ],
   "source": [
    "# cau3: \n",
    "\n",
    "# a) tao 1 mang 5*6\n",
    "\n",
    "a = np.random.randint( -10,10, 30 ).reshape(5,6)\n",
    "print(a)\n",
    "\n",
    "# b) loai bo gia tri < 0\n",
    "\n",
    "a[a < 0] = 0\n",
    "\n",
    "print(a)\n"
   ]
  },
  {
   "cell_type": "code",
   "execution_count": 76,
   "metadata": {},
   "outputs": [
    {
     "name": "stdout",
     "output_type": "stream",
     "text": [
      "[9 8 7 7 7]\n",
      "[0 0 0 0 0 0 0 3 1 1]\n"
     ]
    },
    {
     "data": {
      "text/plain": [
       "7"
      ]
     },
     "execution_count": 76,
     "metadata": {},
     "output_type": "execute_result"
    }
   ],
   "source": [
    "# cau 4:\n",
    "\n",
    "# a) 100 phan tu [1,10]\n",
    "x = np.random.randint(1, 11, 5)\n",
    "print(x)\n",
    "\n",
    "print(np.bincount(x))\n",
    "# b) gia tri xuat hien nhieu\n",
    "np.bincount(x).argmax()\n"
   ]
  },
  {
   "cell_type": "code",
   "execution_count": 66,
   "metadata": {},
   "outputs": [
    {
     "name": "stdout",
     "output_type": "stream",
     "text": [
      "[14.1997034   3.60110371 10.78804971 17.66939804 11.99658437 13.9190274\n",
      " 13.79753761  9.29161583 11.93291383 17.9070766   1.54647476  9.65411614\n",
      "  3.70882322  9.53262886  8.02832563 19.29583989  9.17124351 15.04891673\n",
      "  5.45400285  9.20326228  2.03092818  7.52955641  6.92892084 12.8997059\n",
      " 12.46782108  2.66843184 13.19445984  9.84719054  1.02774328  3.90019527\n",
      "  9.95980405 10.50693363 12.13805152 15.99794131 11.4318646  16.97220321\n",
      "  1.64873074 18.59916811  9.24346225  6.50269493 19.49439904 18.92385357\n",
      "  4.72008053 18.71037851  6.6525476   3.07204648  4.10522316  1.20771654\n",
      "  9.52199784 10.86992671]\n",
      "498.52062189024025\n",
      "[15.04891673 15.99794131 16.97220321 17.66939804 17.9070766  18.59916811\n",
      " 18.71037851 18.92385357 19.29583989 19.49439904]\n"
     ]
    }
   ],
   "source": [
    "# cau 5\n",
    "\n",
    "# a) 50 phan tu float [1;20]\n",
    "a = np.random.randint(1,20,50) + np.random.rand(50)\n",
    "print(a)\n",
    "\n",
    "# b) tong va tich\n",
    "tong_a = np.sum(a)\n",
    "print(tong_a)\n",
    "\n",
    "#tich_a = np.dot(a)\n",
    "#print(tich_a)\n",
    "\n",
    "# c)\n",
    "n = 10\n",
    "print(a[np.argsort(a)[-n:]])\n"
   ]
  }
 ],
 "metadata": {
  "kernelspec": {
   "display_name": "Python 3",
   "language": "python",
   "name": "python3"
  },
  "language_info": {
   "codemirror_mode": {
    "name": "ipython",
    "version": 3
   },
   "file_extension": ".py",
   "mimetype": "text/x-python",
   "name": "python",
   "nbconvert_exporter": "python",
   "pygments_lexer": "ipython3",
   "version": "3.6.4"
  }
 },
 "nbformat": 4,
 "nbformat_minor": 2
}
